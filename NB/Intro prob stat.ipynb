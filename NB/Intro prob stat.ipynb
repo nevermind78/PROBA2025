{
 "cells": [
  {
   "cell_type": "markdown",
   "metadata": {
    "slideshow": {
     "slide_type": "slide"
    }
   },
   "source": [
    "# Probability , counting , Simulation & Statistics\n"
   ]
  },
  {
   "cell_type": "code",
   "execution_count": null,
   "metadata": {},
   "outputs": [],
   "source": [
    "import numpy as np\n",
    "\n",
    "\n"
   ]
  },
  {
   "cell_type": "markdown",
   "metadata": {},
   "source": [
    "Here we pass in a list of integers to the [`numpy.array`](https://docs.scipy.org/doc/numpy-1.15.1/reference/generated/numpy.array.html) function to create an instance of a NumPy array, and then print the array as follows:"
   ]
  },
  {
   "cell_type": "markdown",
   "metadata": {
    "slideshow": {
     "slide_type": "slide"
    }
   },
   "source": [
    "## Factorials and binomial coefficients\n",
    "\n",
    "We can compute $n!$ using [`scipy.special.factorial(n)`](https://docs.scipy.org/doc/scipy/reference/generated/scipy.special.factorial.html#scipy.special.factorial) and $\\binom{n}{k}$ using [`scipy.special.comb(n, k)`](https://docs.scipy.org/doc/scipy/reference/generated/scipy.special.comb.html#scipy.special.comb). As we have seen, factorials grow extremely quickly. What is the largest $n$ for which `scipy.special.factorial` returns a number? Beyond that point, `scipy.special.factorial` will return `inf` (infinity), without a warning message. "
   ]
  },
  {
   "cell_type": "code",
   "execution_count": 15,
   "metadata": {
    "slideshow": {
     "slide_type": "slide"
    }
   },
   "outputs": [
    {
     "name": "stdout",
     "output_type": "stream",
     "text": [
      "15! = 1307674368000.0\n",
      "6 choose 2 = 15.0\n",
      "200! = inf ?\n"
     ]
    }
   ],
   "source": [
    "from scipy.special import factorial, comb\n",
    "\n",
    "# to learn more about scipy.special.factorial, un-comment out the following line\n",
    "#print(factorial.__doc__)\n",
    "\n",
    "# to learn more about scipy.special.comb, un-comment out the following line\n",
    "#print(comb.__doc__)\n",
    "\n",
    "print('15! =', factorial(15))\n",
    "\n",
    "print('6 choose 2 =', comb(6, 2))\n",
    "\n",
    "print('200! =', factorial(200), '?')"
   ]
  },
  {
   "cell_type": "code",
   "execution_count": 16,
   "metadata": {
    "slideshow": {
     "slide_type": "subslide"
    }
   },
   "outputs": [
    {
     "data": {
      "text/plain": [
       "93326215443944152681699238856266700490715968264381621468592963895217599993229915608941463976156518286253697920827223758251185210916864000000000000000000000000"
      ]
     },
     "execution_count": 16,
     "metadata": {},
     "output_type": "execute_result"
    }
   ],
   "source": [
    "from functools import reduce\n",
    "def factorial(n):\n",
    "    return reduce((lambda x,y: x*y),range(1,n+1))\n",
    "factorial(100)\n"
   ]
  },
  {
   "cell_type": "code",
   "execution_count": 17,
   "metadata": {},
   "outputs": [
    {
     "data": {
      "text/plain": [
       "375"
      ]
     },
     "execution_count": 17,
     "metadata": {},
     "output_type": "execute_result"
    }
   ],
   "source": [
    "ch=str(factorial(200))\n",
    "len(ch)"
   ]
  },
  {
   "cell_type": "markdown",
   "metadata": {
    "slideshow": {
     "slide_type": "slide"
    }
   },
   "source": [
    "## Sampling and simulation"
   ]
  },
  {
   "cell_type": "markdown",
   "metadata": {
    "collapsed": true,
    "slideshow": {
     "slide_type": "subslide"
    }
   },
   "source": [
    "The function [`numpy.random.choice`](https://docs.scipy.org/doc/numpy-1.15.0/reference/generated/numpy.random.choice.html) is a useful way of drawing random samples in NumPy. (Technically, they are pseudo-random since there is an underlying deterministic algorithm, but they \"look like\" random samples for almost all practical purposes.) For example,"
   ]
  },
  {
   "cell_type": "code",
   "execution_count": 18,
   "metadata": {
    "slideshow": {
     "slide_type": "subslide"
    }
   },
   "outputs": [
    {
     "data": {
      "text/plain": [
       "array([3, 2, 5, 1, 4])"
      ]
     },
     "execution_count": 18,
     "metadata": {},
     "output_type": "execute_result"
    }
   ],
   "source": [
    "# seed the random number generator\n",
    "np.random.seed(1)\n",
    "\n",
    "# Example: sampling without replacement\n",
    "#\n",
    "# do not forget that Python arrays are zero-indexed,\n",
    "# and the 2nd argument to NumPy arange must be incremented by 1\n",
    "# if you want to include that value\n",
    "n = 6\n",
    "k = 5\n",
    "np.random.choice(np.arange(1, n+1), k, replace=False)"
   ]
  },
  {
   "cell_type": "markdown",
   "metadata": {
    "slideshow": {
     "slide_type": "slide"
    }
   },
   "source": [
    "generates a random sample of 5 of the numbers from 1 to 10, without replacement, and with equal probabilities given to each number. To sample with replacement instead, you can explicitly specify `replace=True`, or you may leave that argument out altogether since the default for `numpy.random.choice` is `replace=True`."
   ]
  },
  {
   "cell_type": "code",
   "execution_count": 19,
   "metadata": {
    "slideshow": {
     "slide_type": "subslide"
    }
   },
   "outputs": [
    {
     "data": {
      "text/plain": [
       "array([6, 4, 5, 1, 2])"
      ]
     },
     "execution_count": 19,
     "metadata": {},
     "output_type": "execute_result"
    }
   ],
   "source": [
    "np.random.seed(1)\n",
    "\n",
    "# Example: sampling with replacement\n",
    "np.random.choice(np.arange(1, n+1), k, replace=True)"
   ]
  },
  {
   "cell_type": "markdown",
   "metadata": {
    "slideshow": {
     "slide_type": "slide"
    }
   },
   "source": [
    "To obtain a random permutation of an `array` of numbers $1, 2, \\ldots, n$ we can use [`numpy.random.shuffle`](https://docs.scipy.org/doc/numpy/reference/generated/numpy.random.shuffle.html). Note that this function operates on the given `array` in-place."
   ]
  },
  {
   "cell_type": "code",
   "execution_count": 20,
   "metadata": {
    "slideshow": {
     "slide_type": "subslide"
    }
   },
   "outputs": [
    {
     "name": "stdout",
     "output_type": "stream",
     "text": [
      "v = [ 1  2  3  4  5  6  7  8  9 10]\n",
      "v, shuffled = [ 6  5  2  3 10  7  8  1  4  9]\n"
     ]
    }
   ],
   "source": [
    "np.random.seed(3)\n",
    "\n",
    "m = 1\n",
    "n = 10\n",
    "\n",
    "v = np.arange(m, n+1)\n",
    "print('v =', v)\n",
    "\n",
    "np.random.shuffle(v)\n",
    "print('v, shuffled =', v)"
   ]
  },
  {
   "cell_type": "markdown",
   "metadata": {
    "slideshow": {
     "slide_type": "slide"
    }
   },
   "source": [
    "We can also use `numpy.random.choice` to draw from a non-numeric `list` or `array`. For example, the Python built-in function [`list`](https://docs.python.org/3.6/library/functions.html#func-list) can be used to transform a string of the 26 lowercase letters of the English alphabet into a list of individual letters. `numpy.random.choice` will generate a random 7-letter \"word\" by sampling from the list of lowercase alphabet chars derived from [`string.ascii_lowercase`](https://docs.python.org/3/library/string.html), without replacement. Lastly, the Python String function [`join`](https://docs.python.org/3.6/library/stdtypes.html?highlight=join#str.join) concatenates the 7 randomly selected letters into a \"word\"."
   ]
  },
  {
   "cell_type": "code",
   "execution_count": 21,
   "metadata": {
    "slideshow": {
     "slide_type": "subslide"
    }
   },
   "outputs": [
    {
     "data": {
      "text/plain": [
       "'kyzdyia'"
      ]
     },
     "execution_count": 21,
     "metadata": {},
     "output_type": "execute_result"
    }
   ],
   "source": [
    "np.random.seed(3)\n",
    "\n",
    "import string\n",
    "\n",
    "# split string of lower-case alphabets into an array\n",
    "alpha = list(string.ascii_lowercase)\n",
    "\n",
    "# randomly choose 7 letters, concatenate into a string\n",
    "''.join(np.random.choice(alpha, 7, replace=True))"
   ]
  },
  {
   "cell_type": "markdown",
   "metadata": {
    "slideshow": {
     "slide_type": "subslide"
    }
   },
   "source": [
    "`numpy.random.choice` also allows us to specify general probabilities for sampling each number. For example,"
   ]
  },
  {
   "cell_type": "code",
   "execution_count": 22,
   "metadata": {
    "slideshow": {
     "slide_type": "subslide"
    }
   },
   "outputs": [
    {
     "data": {
      "text/plain": [
       "array([1, 3, 1, 3, 2, 3, 3, 2, 1, 1, 0, 3, 2, 1, 3, 1, 2, 1, 3, 2, 2, 1,\n",
       "       1, 1, 2, 1, 1, 3, 3, 1, 0, 1, 3, 3, 0, 2, 0, 2, 3, 3, 1, 3, 3, 3,\n",
       "       0, 2, 3, 2, 3, 2, 3, 2, 0, 0, 1, 1, 3, 3, 3, 2, 3, 3, 3, 3, 3, 0,\n",
       "       2, 0, 2, 3, 0, 1, 2, 1, 3, 2, 3, 2, 2, 3, 3, 1, 3, 2, 1, 2, 2, 3,\n",
       "       2, 0, 3, 1, 2, 3, 2, 2, 3, 0, 2, 2])"
      ]
     },
     "execution_count": 22,
     "metadata": {},
     "output_type": "execute_result"
    }
   ],
   "source": [
    "np.random.seed(5)\n",
    "\n",
    "# from the 4 numbers starting from 0\n",
    "# obtain a sample of size 3\n",
    "# with replacement\n",
    "# using the probabilities listed in p\n",
    "np.random.choice(4, 100, replace=True, p=[0.1, 0.2, 0.3, 0.4])"
   ]
  },
  {
   "cell_type": "markdown",
   "metadata": {
    "slideshow": {
     "slide_type": "slide"
    }
   },
   "source": [
    "samples 3 numbers between 0 and 3, with replacement, and with probabilities given by the parameter `p=[0.1, 0.2, 0.3, 0.4]`. If the sampling is without replacement, then at each stage the probability of any not-yet-chosen number is _proportional_ to its original probability."
   ]
  },
  {
   "cell_type": "markdown",
   "metadata": {
    "slideshow": {
     "slide_type": "slide"
    }
   },
   "source": [
    "## Matching problem simulation\n",
    "> **Montmort’s matching problem**. Consider a well-shuffled deck\n",
    "of n cards, labeled 1 through n. You flip over the cards one by one, saying the\n",
    "numbers 1 through n as you do so. You win the game if, at some point, the number\n",
    "you say aloud is the same as the number on the card being flipped over (for example,\n",
    "if the 7th card in the deck has the label 7). What is the probability of winning?"
   ]
  },
  {
   "cell_type": "markdown",
   "metadata": {
    "slideshow": {
     "slide_type": "subslide"
    }
   },
   "source": [
    "Let's show by simulation that the probability of a matching card **Montmort’s matching problem** is approximately $1 − 1/e$ when the deck is sufficiently large. Using [`numpy.random.permutation`](https://docs.scipy.org/doc/numpy/reference/generated/numpy.random.permutation.html#numpy.random.permutation) while iterating in a for-loop (see Python flow controls [`for`](https://docs.python.org/3/tutorial/controlflow.html#for-statements) and [`range`](https://docs.python.org/3/tutorial/controlflow.html#the-range-function)), we can perform the experiment a bunch of times and see how many times we encounter at least one matching card:"
   ]
  },
  {
   "cell_type": "code",
   "execution_count": 23,
   "metadata": {
    "slideshow": {
     "slide_type": "subslide"
    }
   },
   "outputs": [
    {
     "name": "stdout",
     "output_type": "stream",
     "text": [
      "simulated value: 0.629360\n",
      "expected value : 0.632121\n"
     ]
    }
   ],
   "source": [
    "np.random.seed(8)\n",
    "\n",
    "n = 100\n",
    "trials = 100000\n",
    "\n",
    "ordered = np.arange(1, n+1)\n",
    "\n",
    "tmp = []\n",
    "for i in range(trials):    \n",
    "    shuffled = np.random.permutation(np.arange(1, n+1))\n",
    "    m = np.sum(shuffled == ordered)\n",
    "    tmp.append(m)\n",
    "    \n",
    "results = np.array(tmp)\n",
    "ans = np.sum(results >= 1) / trials\n",
    "\n",
    "expected = 1 - 1/np.e\n",
    "\n",
    "print('simulated value: {:.6F}'.format(ans))\n",
    "print('expected value : {:.6F}'.format(expected))"
   ]
  },
  {
   "cell_type": "markdown",
   "metadata": {
    "slideshow": {
     "slide_type": "subslide"
    }
   },
   "source": [
    "First, we declare and assign values to variables for the size of the deck `n`, and the number of `trials` in our simulation.\n",
    "\n",
    "Next, we generate a sequence from 1 to `n` (stopping at `n+1` to include `n`) to represent our ordered deck of cards.\n",
    "\n",
    "The code then loops for `trial` number of times, where\n",
    "* a permutation of a new sequence from 1 to `n` is created\n",
    "* the number of cards (indices) that match with our `ordered` sequence are counted as `m`\n",
    "* the number of matches `m` are saved to a temporary accumulator array `tmp`\n",
    "\n",
    "After completing `trial` simulations, we create a NumPy `array` `results` from the `tmp` accumulator, which lets us count the number of simulations where there was at least 1 match.\n",
    "\n",
    "Finally, we add up the number of times where there was at least one matching card, and we divide by the number of simulations."
   ]
  },
  {
   "cell_type": "markdown",
   "metadata": {
    "slideshow": {
     "slide_type": "slide"
    }
   },
   "source": [
    "## Monty Hall simulation\n",
    "\n",
    "Many long, bitter debates about the Monty Hall problem could have been averted by trying it out with a simulation. To study how well the never-switch strategy performs, let's generate 10<sup>5</sup> runs of the Monty Hall game. To simplify notation, assume the contestant always chooses door 1. Then we can generate a vector specifying which door has the car for each repetition:"
   ]
  },
  {
   "cell_type": "code",
   "execution_count": 24,
   "metadata": {
    "slideshow": {
     "slide_type": "subslide"
    }
   },
   "outputs": [
    {
     "name": "stdout",
     "output_type": "stream",
     "text": [
      "The never-switch strategy has success rate 0.331\n"
     ]
    }
   ],
   "source": [
    "np.random.seed(55)\n",
    "\n",
    "n = 10**5\n",
    "cardoor = np.random.choice([1,2,3] , n, replace=True)\n",
    "\n",
    "print('The never-switch strategy has success rate {:.3F}'.format(np.sum(cardoor==1) / n))"
   ]
  },
  {
   "cell_type": "markdown",
   "metadata": {
    "slideshow": {
     "slide_type": "subslide"
    }
   },
   "source": [
    "**At this point we could generate the vector specifying which doors Monty opens, but that's unnecessary since the never-switch strategy succeeds if and only if door 1 has the car! So the fraction of times when the never-switch strategy succeeds is `numpy.sum(cardoor==1)/n`, which was 0.331in our simulation. This is very close to 1/3.**\n",
    "\n",
    "**What if we want to play the Monty Hall game interactively? We can do this by programming a Python class that would let us play interactively or let us run a simulation across many trials.**"
   ]
  },
  {
   "cell_type": "code",
   "execution_count": 25,
   "metadata": {
    "slideshow": {
     "slide_type": "skip"
    }
   },
   "outputs": [],
   "source": [
    "class Monty():\n",
    "    \n",
    "    def __init__(self):\n",
    "        \"\"\" Object creation function. \"\"\"\n",
    "        self.state = 0\n",
    "        self.doors = np.array([1, 2, 3])\n",
    "        self.prepare_game()\n",
    "\n",
    "    def get_success_rate(self):\n",
    "        \"\"\" Return the rate of success in this series of plays: num. wins / num. plays. \"\"\"\n",
    "        if self.num_plays > 0:\n",
    "            return 1.0*self.num_wins / self.num_plays\n",
    "        else:\n",
    "            return 0.0\n",
    "\n",
    "    def prepare_game(self):\n",
    "        \"\"\" Prepare initial values for game play, and randonly choose the door with the car. \"\"\"\n",
    "        self.num_plays = 0\n",
    "        self.num_wins = 0\n",
    "        self.cardoor = np.random.choice(self.doors)\n",
    "        self.players_choice = None\n",
    "        self.montys_choice = None\n",
    "       \n",
    "    def choose_door(self, door):\n",
    "        \"\"\" Player chooses a door at state 0. Monty will choose a remaining door to reveal a goat. \"\"\"\n",
    "        self.state = 1\n",
    "        self.players_choice = door\n",
    "        self.montys_choice = np.random.choice(self.doors[(self.doors!=self.players_choice) & (self.doors!=self.cardoor)])\n",
    "        \n",
    "    def switch_door(self, do_switch):\n",
    "        \"\"\" Player has the option to switch from the door she has chosen to the remaining unopened door. \n",
    "        \n",
    "            If the door the player has selected is the same as the cardoor, then num. of wins is incremented.\n",
    "            \n",
    "            Finally, number of plays will be incremented.\n",
    "        \"\"\"\n",
    "        self.state = 2\n",
    "        if do_switch:\n",
    "            self.players_choice = self.doors[(self.doors!=self.players_choice) & (self.doors!=self.montys_choice)][0]\n",
    "        if self.players_choice == self.cardoor:\n",
    "            self.num_wins += 1\n",
    "        self.num_plays += 1\n",
    "        \n",
    "    def continue_play(self):\n",
    "        \"\"\" Player opts to continue playing in this series. \n",
    "        \n",
    "            The game is returned to state 0, but the counters for num. wins and num. plays\n",
    "            will be kept intact and running.\n",
    "            \n",
    "            A new cardoor is randomly chosen.\n",
    "        \"\"\"\n",
    "        self.state = 0\n",
    "        self.cardoor = np.random.choice(self.doors)\n",
    "        self.players_choice = None\n",
    "        self.montys_choice = None\n",
    "            \n",
    "    def reset(self):\n",
    "        \"\"\" The entire game state is returned to its initial state. \n",
    "        \n",
    "            All counters and variable holdling state are re-initialized.\n",
    "        \"\"\"\n",
    "        self.state = 0\n",
    "        self.prepare_game()"
   ]
  },
  {
   "cell_type": "markdown",
   "metadata": {
    "slideshow": {
     "slide_type": "subslide"
    }
   },
   "source": [
    "### As a short simulation program\n",
    "\n",
    "Here is an example showing how to use the `Monty` class above to run a simulation to see how often the switching strategy succeeds."
   ]
  },
  {
   "cell_type": "code",
   "execution_count": 26,
   "metadata": {
    "slideshow": {
     "slide_type": "subslide"
    }
   },
   "outputs": [
    {
     "name": "stdout",
     "output_type": "stream",
     "text": [
      "In 100000 trials, the switching strategy won 66730 times.\n",
      "Success rate is 0.667\n"
     ]
    }
   ],
   "source": [
    "np.random.seed(89)\n",
    "\n",
    "trials = 10**5\n",
    "\n",
    "game = Monty()\n",
    "for _ in range(trials):\n",
    "    game.choose_door(np.random.choice([1,2,3]))\n",
    "    game.switch_door(True)\n",
    "    game.continue_play()\n",
    "\n",
    "print('In {} trials, the switching strategy won {} times.'.format(game.num_plays, game.num_wins))\n",
    "print('Success rate is {:.3f}'.format(game.get_success_rate()))"
   ]
  },
  {
   "cell_type": "code",
   "execution_count": 27,
   "metadata": {
    "slideshow": {
     "slide_type": "skip"
    }
   },
   "outputs": [],
   "source": [
    "from ipywidgets import Box, Button, ButtonStyle, FloatText, GridBox, IntText, Label, Layout, HBox\n",
    "from IPython.display import display\n",
    "\n",
    "#########################################################\n",
    "door1  = Button(description='Door 1', layout=Layout(flex='1 1 auto', width='100px',height='50px',\n",
    "                                                    border = '2px solid black'))\n",
    "door2  = Button(description='Door 2', layout=door1.layout)\n",
    "door3  = Button(description='Door 3', layout=door1.layout)\n",
    "doors_arr = [door1, door2, door3]\n",
    "doors  = Box(doors_arr, layout=Layout(width='auto', grid_area='doors'))\n",
    "############################################################\n",
    "label1 = Label(value='number of plays', layout=Layout(width='auto', grid_area='label1'))\n",
    "text1  = IntText(disabled=True, layout=Layout(width='auto', grid_area='text1'))\n",
    "\n",
    "label2 = Label(value='number of wins', layout=Layout(width='auto', grid_area='label2'))\n",
    "text2  = IntText(disabled=True, layout=Layout(width='auto', grid_area='text2'))\n",
    "\n",
    "label3 = Label(value='success rate', layout=Layout(width='auto', grid_area='label3'))\n",
    "text3  = FloatText(disabled=True, layout=Layout(width='auto', grid_area='text3'))\n",
    "#############################################################\n",
    "banner = Box([Label(value='Interactive widget: Monty Hall problem', \n",
    "                    layout=Layout(width='50%'))], \n",
    "             layout=Layout(width='auto', justify_content='center', grid_area='banner'))\n",
    "\n",
    "status = Label(value='Pick a door...', layout=Layout(width='auto', grid_area='status'))\n",
    "############################################################\n",
    "button_layout = Layout(flex='1 1 auto', width='auto')\n",
    "reveal = Button(description='reveal', tooltip='open selected door', layout=button_layout, disabled=True)\n",
    "contin = Button(description='continue', tooltip='continue play', layout=button_layout, disabled=True)\n",
    "reset  = Button(description='reset', tooltip='reset game', layout=button_layout, disabled=True)\n",
    "actions  = Box([reveal, contin, reset], layout=Layout(width='auto', grid_area='actions'))\n",
    "###########################################################\n",
    "ui = GridBox(children=[banner, doors, label1, text1, label2, text2, label3, text3, status, actions],\n",
    "        layout=Layout(\n",
    "            width='100%',\n",
    "            grid_template_rows='auto auto auto auto auto auto auto',\n",
    "            grid_template_columns='25% 25% 25% 25%',\n",
    "            grid_template_areas='''\n",
    "                \"banner banner banner banner\"\n",
    "                \"doors doors doors doors\"\n",
    "                \"label1 label1 text1 text1\"\n",
    "                \"label2 label2 text2 text2\"\n",
    "                \"label3 label3 text3 text3\"\n",
    "                \"status status status status\"\n",
    "                \". . actions actions\"\n",
    "            '''\n",
    "        )\n",
    ")\n",
    "########################################################################\n"
   ]
  },
  {
   "cell_type": "code",
   "execution_count": 28,
   "metadata": {
    "slideshow": {
     "slide_type": "skip"
    }
   },
   "outputs": [],
   "source": [
    "uigame = Monty()\n",
    "\n",
    "def reset_ui(disable_reset=True):\n",
    "    \"\"\" Return widget elements to their initial state.\n",
    "        Do not disable the reset button in the case of continue.\n",
    "    \"\"\"\n",
    "    for i,d in enumerate(doors_arr):\n",
    "        d.description = 'Door {}'.format(i+1)\n",
    "        d.disabled = False\n",
    "        d.icon = ''\n",
    "        d.button_style = ''\n",
    "            \n",
    "    reveal.disabled = True\n",
    "    contin.disabled = True\n",
    "    reset.disabled = disable_reset\n",
    "    \n",
    "def update_status(new_status):\n",
    "    \"\"\" Update the widget text fields for displaying present game status. \"\"\"\n",
    "    text1.value = uigame.num_plays\n",
    "    text2.value = uigame.num_wins\n",
    "    text3.value = uigame.get_success_rate()\n",
    "    status.value = new_status\n",
    "    \n",
    "def update_ui_reveal():\n",
    "    \"\"\" Helper function to update the widget after the player clicks the reveal button. \"\"\"\n",
    "    if uigame.players_choice == uigame.cardoor:\n",
    "        new_status = 'You win! Continue playing?'\n",
    "    else:\n",
    "        new_status = 'Sorry, you lose. Continue playing?'\n",
    "\n",
    "    for i,d in enumerate(doors_arr):\n",
    "        d.disabled = True\n",
    "        if uigame.cardoor == i+1:\n",
    "            d.description = 'car'\n",
    "        else:\n",
    "            d.description = 'goat'\n",
    "        if uigame.players_choice == i+1:\n",
    "            if uigame.players_choice == uigame.cardoor:\n",
    "                d.button_style = 'success'   \n",
    "                d.icon = 'check'\n",
    "            else:\n",
    "                d.button_style = 'danger' \n",
    "                d.icon = 'times'\n",
    "    update_status(new_status)\n",
    "    reveal.disabled = True\n",
    "    contin.disabled = False\n",
    "    reset.disabled = False    \n",
    "    \n",
    "def on_button_clicked(b):  \n",
    "    \"\"\"  Event-handling function that maps button click events in the widget \n",
    "         to corresponding functions in Monty, and updates the user interface\n",
    "         according to the present game state.\n",
    "    \"\"\"\n",
    "    if uigame.state == 0:\n",
    "        if b.description in ['Door 1', 'Door 2', 'Door 3']:\n",
    "            c = int(b.description.split()[1])\n",
    "            uigame.choose_door(c)\n",
    "\n",
    "            b.disabled = True\n",
    "            b.button_style = 'info'\n",
    "\n",
    "            m = doors_arr[uigame.montys_choice-1]\n",
    "            m.disabled = True\n",
    "            m.description = 'goat'\n",
    "\n",
    "            unopened = uigame.doors[(uigame.doors != uigame.players_choice) &\n",
    "                                        (uigame.doors != uigame.montys_choice)][0]\n",
    "            status.value = 'Monty reveals a goat behind Door {}. Click Door {} to switch, or \\'reveal\\' Door {}.' \\\n",
    "                            .format(uigame.montys_choice, unopened, uigame.players_choice)\n",
    "\n",
    "            reveal.disabled = False\n",
    "            reset.disabled = False\n",
    "        elif b.description == 'reset':\n",
    "                uigame.reset()\n",
    "                reset_ui()\n",
    "                update_status('Pick a door...')    \n",
    "    elif uigame.state == 1:\n",
    "        if b.description in ['Door 1', 'Door 2', 'Door 3']:\n",
    "            prev_choice = uigame.players_choice\n",
    "            uigame.switch_door(True)\n",
    "            \n",
    "            pb = doors_arr[prev_choice-1]\n",
    "            pb.icon = ''\n",
    "            pb.button_style = ''\n",
    "            \n",
    "            b.disabled = True\n",
    "            b.button_style = 'info'\n",
    "            \n",
    "            status.value = 'Now click \\'reveal\\' to see what\\'s behind Door {}.'.format(uigame.players_choice)\n",
    "            \n",
    "        elif b.description == 'reset':\n",
    "            uigame.reset()\n",
    "            reset_ui()\n",
    "            update_status('Pick a door...')\n",
    "        elif b.description == 'reveal':\n",
    "            uigame.switch_door(False)\n",
    "            update_ui_reveal()\n",
    "    elif uigame.state == 2:\n",
    "        if b.description == 'reveal':\n",
    "            update_ui_reveal()  \n",
    "        else:            \n",
    "            if b.description == 'continue':\n",
    "                uigame.continue_play()\n",
    "                reset_ui(False)\n",
    "                update_status('Pick a door once more...')\n",
    "            elif b.description == 'reset':\n",
    "                uigame.reset()\n",
    "                reset_ui()\n",
    "                update_status('Pick a door...')\n",
    "\n",
    "# hook up all buttons to our event-handling function\n",
    "door1.on_click(on_button_clicked)\n",
    "door2.on_click(on_button_clicked)\n",
    "door3.on_click(on_button_clicked)\n",
    "reveal.on_click(on_button_clicked)\n",
    "contin.on_click(on_button_clicked)\n",
    "reset.on_click(on_button_clicked)\n",
    "\n"
   ]
  },
  {
   "cell_type": "code",
   "execution_count": 29,
   "metadata": {
    "slideshow": {
     "slide_type": "slide"
    }
   },
   "outputs": [
    {
     "data": {
      "application/vnd.jupyter.widget-view+json": {
       "model_id": "ef44b9ba2c204b0485ff09308a3af66c",
       "version_major": 2,
       "version_minor": 0
      },
      "text/plain": [
       "GridBox(children=(Box(children=(Label(value='Interactive widget: Monty Hall problem', layout=Layout(width='50%…"
      ]
     },
     "metadata": {},
     "output_type": "display_data"
    }
   ],
   "source": [
    "display(ui)"
   ]
  },
  {
   "cell_type": "code",
   "execution_count": null,
   "metadata": {},
   "outputs": [],
   "source": []
  }
 ],
 "metadata": {
  "celltoolbar": "Diaporama",
  "kernelspec": {
   "display_name": "base",
   "language": "python",
   "name": "python3"
  },
  "language_info": {
   "codemirror_mode": {
    "name": "ipython",
    "version": 3
   },
   "file_extension": ".py",
   "mimetype": "text/x-python",
   "name": "python",
   "nbconvert_exporter": "python",
   "pygments_lexer": "ipython3",
   "version": "3.12.7"
  },
  "notebook_info": {
   "author": "Joseph K. Blitzstein, Jessica Hwang",
   "chapter": "1. Probability and Counting",
   "creator": "buruzaemon",
   "section": "1.8",
   "title": "Introduction to Probability, 1st Edition"
  }
 },
 "nbformat": 4,
 "nbformat_minor": 2
}
