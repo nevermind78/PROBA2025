{
 "cells": [
  {
   "cell_type": "code",
   "execution_count": 2,
   "id": "26d12353",
   "metadata": {},
   "outputs": [
    {
     "name": "stdout",
     "output_type": "stream",
     "text": [
      "2296\n"
     ]
    }
   ],
   "source": [
    "L=[]\n",
    "for i in range(1000,10000):\n",
    "    if len(set(str(i)))==4 and i%2==0:\n",
    "        L.append(i)\n",
    "print(len(L))"
   ]
  },
  {
   "cell_type": "code",
   "execution_count": 9,
   "id": "f815e237",
   "metadata": {},
   "outputs": [
    {
     "data": {
      "text/plain": [
       "2240"
      ]
     },
     "execution_count": 9,
     "metadata": {},
     "output_type": "execute_result"
    }
   ],
   "source": [
    "8*8*7*5"
   ]
  },
  {
   "cell_type": "code",
   "execution_count": 3,
   "id": "df9bbc82",
   "metadata": {},
   "outputs": [
    {
     "data": {
      "text/plain": [
       "2296"
      ]
     },
     "execution_count": 3,
     "metadata": {},
     "output_type": "execute_result"
    }
   ],
   "source": [
    "9*8*7+8*8*7*4\n"
   ]
  },
  {
   "cell_type": "code",
   "execution_count": null,
   "id": "8b4a6b86",
   "metadata": {},
   "outputs": [],
   "source": []
  }
 ],
 "metadata": {
  "kernelspec": {
   "display_name": "base",
   "language": "python",
   "name": "python3"
  },
  "language_info": {
   "codemirror_mode": {
    "name": "ipython",
    "version": 3
   },
   "file_extension": ".py",
   "mimetype": "text/x-python",
   "name": "python",
   "nbconvert_exporter": "python",
   "pygments_lexer": "ipython3",
   "version": "3.12.7"
  }
 },
 "nbformat": 4,
 "nbformat_minor": 5
}
